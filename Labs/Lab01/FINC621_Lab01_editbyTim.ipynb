{
 "cells": [
  {
   "cell_type": "markdown",
   "metadata": {},
   "source": [
    "# FINC621 Winter 2018-2019 Lab Worksheet 1  \n",
    "  **Exploration of python in Finance**  \n",
    "  Fady Harfoush  \n",
    "  November 20, 2018  \n",
    "    \n",
    "#### About  \n",
    "  \n",
    "This worksheet is your warm-up exercise to getting started with some python for finance, based on examples from the book.  It is also your warm-up with problem solving (no python required) and expressing your methods/answers using proper mathematical symbols and representations.  \n",
    "  \n",
    "#### <span class=\"girk\">Setup</span>\n",
    "\n",
    "<span class=\"girk\">Remember to always set your working directory to the source file location.  Go to **Session**, scroll down to **Set Working Directory**, and click **To Srouce File Location**.  Read the instructions carefully, complete the tasks, and answer any questions.  Submit your work to RPubs as detailed in previous notes.  </span>  \n",
    "  \n",
    "#### <span class=\"girk\">Note  </span>\n",
    "  \n",
    "<span class=\"girk\">For clarity, tasks/questions to be completed/answered are highlighted in red color, and numbered according to their particular placement in the task section.  Type your answers outside the red color tags! </span> \n",
    "  \n",
    "  <span class=\"girk\">Quite often you will need to add your own code chunk.  Execute sequentially all code chunks, preview, publish, and submit the link on Sakai following the naming convention.  Make sure to add comments to your code where appropriate.  Use own language!  </span>  \n",
    "  \n",
    "  **Any signs of plagiarism will results in dismissal of work!**\n",
    "  \n",
    "  ---"
   ]
  },
  {
   "cell_type": "markdown",
   "metadata": {},
   "source": [
    "# Lab Begin - Section 1\n",
    "  We begin by importing the required python packages.  This is done in a new code block."
   ]
  },
  {
   "cell_type": "code",
   "execution_count": null,
   "metadata": {},
   "outputs": [],
   "source": [
    "# Package imports\n",
    "import datetime as dt\n",
    "import numpy as np\n",
    "import matplotlib.pyplot as plt\n",
    "import matplotlib.dates as mdates\n",
    "import pandas as pd\n",
    "import pandas_datareader.data as web\n",
    "import seaborn\n",
    "from mpl_finance import candlestick_ohlc\n"
   ]
  },
  {
   "cell_type": "markdown",
   "metadata": {},
   "source": [
    "Now we are going to retrieve the historical data for the stock **GE**.  In the following section, change the python variables to values that pull **GE** data from **yahoo**, with a start date of **1/1/2000** to an end date of **12/31/2009**.\n",
    "\n",
    "### <span class=\"mark\">Question 1.  Edit the python code below according to the instructions above.</span>  "
   ]
  },
  {
   "cell_type": "code",
   "execution_count": null,
   "metadata": {},
   "outputs": [],
   "source": [
    "# Setup variables\n",
    "data_source = 'yahoo'\n",
    "stock_symbol = 'GE'\n",
    "start = dt.datetime(2000,1,1)  # Hint:  dt.datetime(y, m, d)\n",
    "end = dt.datetime(2009,12,31)"
   ]
  },
  {
   "cell_type": "markdown",
   "metadata": {},
   "source": [
    "### Now we will print out the first few lines of data."
   ]
  },
  {
   "cell_type": "code",
   "execution_count": null,
   "metadata": {
    "scrolled": false
   },
   "outputs": [],
   "source": [
    "data = web.DataReader(stock_symbol, data_source, start, end)\n",
    "print(data.head())"
   ]
  },
  {
   "cell_type": "markdown",
   "metadata": {},
   "source": [
    "### Let's grab just the adjusted close values"
   ]
  },
  {
   "cell_type": "code",
   "execution_count": null,
   "metadata": {},
   "outputs": [],
   "source": [
    "ac_data = pd.DataFrame(data, columns=['Adj Close'])"
   ]
  },
  {
   "cell_type": "markdown",
   "metadata": {},
   "source": [
    "### Next, let's add python code to find the maximum adjusted close price"
   ]
  },
  {
   "cell_type": "code",
   "execution_count": null,
   "metadata": {},
   "outputs": [],
   "source": [
    "print(ac_data.max())"
   ]
  },
  {
   "cell_type": "markdown",
   "metadata": {},
   "source": [
    "### <span class=\"mark\">Question 2.  Add python code below to print out the minimum price.</span>"
   ]
  },
  {
   "cell_type": "code",
   "execution_count": null,
   "metadata": {},
   "outputs": [],
   "source": [
    "# Insert code here\n",
    "print(ac_data.min())"
   ]
  },
  {
   "cell_type": "markdown",
   "metadata": {},
   "source": [
    "### <span class=\"mark\">Question 3.  Add python code below to print out the mean price.</span>"
   ]
  },
  {
   "cell_type": "code",
   "execution_count": null,
   "metadata": {},
   "outputs": [],
   "source": [
    "# Insert code here\n",
    "print(ac_data.mean())"
   ]
  },
  {
   "cell_type": "markdown",
   "metadata": {},
   "source": [
    "### Finally, we can graph the data with the following python code"
   ]
  },
  {
   "cell_type": "code",
   "execution_count": null,
   "metadata": {},
   "outputs": [],
   "source": [
    "# Make the plot look good\n",
    "plt.style.use('seaborn-darkgrid')\n",
    "\n",
    "# Put our data into a plot\n",
    "ac_data.plot(figsize = (12,9))\n",
    "\n",
    "# Set the plot options\n",
    "plt.title(\"GE Adjusted Close Price\")\n",
    "plt.ylabel(\"Price of stock\")\n",
    "plt.xlabel(\"Date\")"
   ]
  },
  {
   "cell_type": "markdown",
   "metadata": {},
   "source": [
    "### Now let's modify our start/end times and pull a different set of GE data"
   ]
  },
  {
   "cell_type": "code",
   "execution_count": null,
   "metadata": {},
   "outputs": [],
   "source": [
    "start = dt.datetime(2009,10,1)\n",
    "end = dt.datetime(2009,12,31)\n",
    "data = web.DataReader(stock_symbol, data_source, start, end)\n",
    "\n",
    "# The .resample('5D') method forms the data into 5 day chunks\n",
    "ac_data = pd.DataFrame(data, columns=['Adj Close']).resample('5D').ohlc()\n",
    "\n",
    "# We bump the columns over, and use the current index as a new column\n",
    "ac_data.reset_index(inplace=True)\n",
    "\n",
    "# Now we map the date column to numbers for graphing\n",
    "ac_data['Date'] = ac_data['Date'].map(mdates.date2num)"
   ]
  },
  {
   "cell_type": "markdown",
   "metadata": {},
   "source": [
    "### Finally, we graph the new data as a candlestick graph"
   ]
  },
  {
   "cell_type": "code",
   "execution_count": null,
   "metadata": {},
   "outputs": [],
   "source": [
    "plt.figure(figsize = (12,9))\n",
    "ax1 = plt.subplot2grid((6,1),(0,0), rowspan=5, colspan=1)\n",
    "ax1.xaxis_date()\n",
    "candlestick_ohlc(ax1, ac_data.values, width=1, colorup='g')"
   ]
  },
  {
   "cell_type": "markdown",
   "metadata": {},
   "source": [
    "# Section 2 - Comparing Performance of Stocks Time Series\n",
    "\n",
    "Choose 4 stocks and compare the Value Line Index(VLIC) to them.  Use a time period dating back one year form the present date.  "
   ]
  },
  {
   "cell_type": "markdown",
   "metadata": {},
   "source": [
    "### <span style=\"color:red\">Question 4:  Edit the following python code to choose 4 stocks.</span>  "
   ]
  },
  {
   "cell_type": "code",
   "execution_count": null,
   "metadata": {},
   "outputs": [],
   "source": [
    "# Python array\n",
    "tickers = ['^VLIC', 'NFLX', 'AAPL', 'MSFT', 'MCD']"
   ]
  },
  {
   "cell_type": "code",
   "execution_count": null,
   "metadata": {},
   "outputs": [],
   "source": [
    "# Set the start and end times\n",
    "start = dt.datetime(2018,4,4)\n",
    "end = dt.datetime(2019,4,4)\n",
    "data = web.DataReader(tickers, data_source, start, end)"
   ]
  },
  {
   "cell_type": "code",
   "execution_count": null,
   "metadata": {},
   "outputs": [],
   "source": [
    "# Isolate the adjusted closing prices\n",
    "ac_data = pd.DataFrame(data['Adj Close'])"
   ]
  },
  {
   "cell_type": "code",
   "execution_count": null,
   "metadata": {},
   "outputs": [],
   "source": [
    "# Iterate through the data, by stock symbol\n",
    "for stock in ac_data:\n",
    "    item = np.cumsum(ac_data[stock].pct_change() * 100)  # Calculate the cumulative sum\n",
    "    item.plot(figsize=(12,9))  # Plot the result\n",
    "    \n",
    "# Set chart options\n",
    "plt.title(\"Stocks Cumulative Simple Return\")\n",
    "plt.xlabel(\"Period of Stocks\")\n",
    "plt.ylabel(\"Cumulative Simple Return * 100\")\n",
    "plt.show()"
   ]
  },
  {
   "cell_type": "markdown",
   "metadata": {},
   "source": [
    "### <span style=\"color:red\">Question 5:  Write the mathematical form/representation, using proper math symbols, to describe the formula being calculated and plotted int he code</span>  "
   ]
  },
  {
   "cell_type": "markdown",
   "metadata": {},
   "source": [
    "R<sub>t</sub> = 100 * $\\sum_{i=1}^{n}$"
   ]
  },
  {
   "cell_type": "markdown",
   "metadata": {},
   "source": [
    "$$\\sum_{n=1}^{10} n^2$$"
   ]
  },
  {
   "cell_type": "markdown",
   "metadata": {},
   "source": [
    "$$\\sum_{i=1}^{n}$$"
   ]
  },
  {
   "cell_type": "code",
   "execution_count": null,
   "metadata": {},
   "outputs": [],
   "source": []
  },
  {
   "cell_type": "code",
   "execution_count": null,
   "metadata": {},
   "outputs": [],
   "source": []
  },
  {
   "cell_type": "code",
   "execution_count": null,
   "metadata": {},
   "outputs": [],
   "source": []
  }
 ],
 "metadata": {
  "kernelspec": {
   "display_name": "Python 3",
   "language": "python",
   "name": "python3"
  },
  "language_info": {
   "codemirror_mode": {
    "name": "ipython",
    "version": 3
   },
   "file_extension": ".py",
   "mimetype": "text/x-python",
   "name": "python",
   "nbconvert_exporter": "python",
   "pygments_lexer": "ipython3",
   "version": "3.6.3"
  },
  "toc": {
   "base_numbering": 1,
   "nav_menu": {
    "height": "425px",
    "width": "428px"
   },
   "number_sections": true,
   "sideBar": true,
   "skip_h1_title": false,
   "title_cell": "Table of Contents",
   "title_sidebar": "Contents",
   "toc_cell": false,
   "toc_position": {},
   "toc_section_display": true,
   "toc_window_display": true
  },
  "varInspector": {
   "cols": {
    "lenName": 16,
    "lenType": 16,
    "lenVar": 40
   },
   "kernels_config": {
    "python": {
     "delete_cmd_postfix": "",
     "delete_cmd_prefix": "del ",
     "library": "var_list.py",
     "varRefreshCmd": "print(var_dic_list())"
    },
    "r": {
     "delete_cmd_postfix": ") ",
     "delete_cmd_prefix": "rm(",
     "library": "var_list.r",
     "varRefreshCmd": "cat(var_dic_list()) "
    }
   },
   "position": {
    "height": "144px",
    "left": "1131px",
    "right": "20px",
    "top": "120px",
    "width": "350px"
   },
   "types_to_exclude": [
    "module",
    "function",
    "builtin_function_or_method",
    "instance",
    "_Feature"
   ],
   "window_display": true
  }
 },
 "nbformat": 4,
 "nbformat_minor": 2
}
