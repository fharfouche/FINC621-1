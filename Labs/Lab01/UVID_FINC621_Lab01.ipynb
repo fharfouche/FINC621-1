{
 "cells": [
  {
   "cell_type": "markdown",
   "metadata": {},
   "source": [
    "# FINC621 Winter 2018-2019 Lab Worksheet 1  \n",
    "  **Exploration of python in Finance**  \n",
    "  Fady Harfoush  \n",
    "  November 20, 2018  \n",
    "    \n",
    "## About  \n",
    "  \n",
    "This worksheet is your warm-up exercise to getting started with some python for finance, based on examples from the book.  It is also your warm-up with problem solving (no python required) and expressing your methods/answers using proper mathematical symbols and representations.  \n",
    "  \n",
    "## Setup\n",
    "\n",
    "Remember to always ensure that the notebook is trusted when you open it.  To do this, look at the top right hand side of the window for the **[Trusted / Not Trusted button]**.  If the notebook is not trusted, click the button to trust the notebook.  \n",
    "  \n",
    "Read the instructions carefully, complete the tasks, and answer any questions.  Submit your notebook to Sakai as is detailed in the syllabus.   \n",
    "  \n",
    "## Important Notes\n",
    "  \n",
    "For clarity, questions that need to be completed are highlighted in yellow and red color.  As a general rule of thumb, you need to execute the cells in the notebook sequentially.  If something isn't working, it's never a bad idea to click **Kernel** from the file menu, and then **Reset & Clear Output**.  \n",
    "  \n",
    "When finished, download the file as a Notebook(.ipynb) and submit to Sakai.  Be sure to use following the naming convention:  UVID_FINC621_Lab##.ipynb  \n",
    "  \n",
    "For instance, if I were to be submitting the file, it should be named:  fharfoush_FINC621_Lab01.ipynb  \n",
    "  \n",
    "**Any signs of plagiarism will results in dismissal of work!**\n",
    "  \n",
    "  ---"
   ]
  },
  {
   "cell_type": "markdown",
   "metadata": {},
   "source": [
    "## 1.  Simple Python\n",
    "  We begin by importing the required python packages.  This is done in a new code block."
   ]
  },
  {
   "cell_type": "code",
   "execution_count": null,
   "metadata": {},
   "outputs": [],
   "source": [
    "# Package imports\n",
    "import datetime as dt\n",
    "import numpy as np\n",
    "import matplotlib.pyplot as plt\n",
    "import matplotlib.dates as mdates\n",
    "import pandas as pd\n",
    "import pandas_datareader.data as web\n",
    "import seaborn\n",
    "\n",
    "# This is to import a local file from our filesystem\n",
    "import sys\n",
    "sys.path.insert(0, './Dependencies')\n",
    "from mpl_finance import candlestick_ohlc\n"
   ]
  },
  {
   "cell_type": "markdown",
   "metadata": {},
   "source": [
    "Now we are going to retrieve the historical data for the stock **GE**.  In the following section, change the python variables to values that pull **GE** data from **yahoo**, with a start date of **1/1/2000** to an end date of **12/31/2009**.\n",
    "\n",
    "#### <span class=\"mark\">Question 1.  Edit the python code below according to the instructions above.</span>  "
   ]
  },
  {
   "cell_type": "code",
   "execution_count": null,
   "metadata": {},
   "outputs": [],
   "source": [
    "# Setup variables\n",
    "data_source = 'yahoo'\n",
    "stock_symbol = 'GE'\n",
    "start = dt.datetime(2000,1,1)  # Hint:  dt.datetime(y, m, d)\n",
    "end = dt.datetime(2009,12,31)"
   ]
  },
  {
   "cell_type": "markdown",
   "metadata": {},
   "source": [
    "**Now we will print out the first few lines of data.**"
   ]
  },
  {
   "cell_type": "code",
   "execution_count": null,
   "metadata": {
    "scrolled": false
   },
   "outputs": [],
   "source": [
    "data = web.DataReader(stock_symbol, data_source, start, end)\n",
    "print(data.head())"
   ]
  },
  {
   "cell_type": "markdown",
   "metadata": {},
   "source": [
    "**Let's grab just the adjusted close values**"
   ]
  },
  {
   "cell_type": "code",
   "execution_count": null,
   "metadata": {},
   "outputs": [],
   "source": [
    "ac_data = pd.DataFrame(data, columns=['Adj Close'])"
   ]
  },
  {
   "cell_type": "markdown",
   "metadata": {},
   "source": [
    "**Next, let's add python code to find the maximum adjusted close price**"
   ]
  },
  {
   "cell_type": "code",
   "execution_count": null,
   "metadata": {},
   "outputs": [],
   "source": [
    "print(ac_data.max())"
   ]
  },
  {
   "cell_type": "markdown",
   "metadata": {},
   "source": [
    "#### <span class=\"mark\">Question 2.  Add python code below to print out the minimum price.</span>"
   ]
  },
  {
   "cell_type": "code",
   "execution_count": null,
   "metadata": {},
   "outputs": [],
   "source": [
    "# Insert code here\n",
    "print(ac_data.min())"
   ]
  },
  {
   "cell_type": "markdown",
   "metadata": {},
   "source": [
    "#### <span class=\"mark\">Question 3.  Add python code below to print out the mean price.</span>"
   ]
  },
  {
   "cell_type": "code",
   "execution_count": null,
   "metadata": {},
   "outputs": [],
   "source": [
    "# Insert code here\n",
    "print(ac_data.mean())"
   ]
  },
  {
   "cell_type": "markdown",
   "metadata": {},
   "source": [
    "**Finally, we can graph the data with the following python code**"
   ]
  },
  {
   "cell_type": "code",
   "execution_count": null,
   "metadata": {},
   "outputs": [],
   "source": [
    "# Make the plot look good\n",
    "plt.style.use('seaborn-darkgrid')\n",
    "\n",
    "# Put our data into a plot\n",
    "ac_data.plot(figsize = (12,9))\n",
    "\n",
    "# Set the plot options\n",
    "plt.title(\"GE Adjusted Close Price\")\n",
    "plt.ylabel(\"Price of stock\")\n",
    "plt.xlabel(\"Date\")"
   ]
  },
  {
   "cell_type": "markdown",
   "metadata": {},
   "source": [
    "**Now let's modify our start/end times and pull a different set of GE data**"
   ]
  },
  {
   "cell_type": "code",
   "execution_count": null,
   "metadata": {},
   "outputs": [],
   "source": [
    "start = dt.datetime(2009,10,1)\n",
    "end = dt.datetime(2009,12,31)\n",
    "data = web.DataReader(stock_symbol, data_source, start, end)\n",
    "\n",
    "# The .resample('5D') method forms the data into 5 day chunks\n",
    "ac_data = pd.DataFrame(data, columns=['Adj Close']).resample('5D').ohlc()\n",
    "\n",
    "# We bump the columns over, and use the current index as a new column\n",
    "ac_data.reset_index(inplace=True)\n",
    "\n",
    "# Now we map the date column to numbers for graphing\n",
    "ac_data['Date'] = ac_data['Date'].map(mdates.date2num)"
   ]
  },
  {
   "cell_type": "markdown",
   "metadata": {},
   "source": [
    "**Finally, we graph the new data as a candlestick graph**"
   ]
  },
  {
   "cell_type": "code",
   "execution_count": null,
   "metadata": {},
   "outputs": [],
   "source": [
    "plt.figure(figsize = (12,9))\n",
    "ax1 = plt.subplot2grid((6,1),(0,0), rowspan=5, colspan=1)\n",
    "ax1.xaxis_date()\n",
    "candlestick_ohlc(ax1, ac_data.values, width=1, colorup='g')"
   ]
  },
  {
   "cell_type": "markdown",
   "metadata": {},
   "source": [
    "## 2.  Comparing Performance of Stocks Time Series\n",
    "\n",
    "Choose 4 stocks and compare the Value Line Index(VLIC) to them.  Use a time period dating back one year form the present date.  "
   ]
  },
  {
   "cell_type": "markdown",
   "metadata": {},
   "source": [
    "#### <span class=\"mark\">Question 4:  Edit the following python code to choose 4 stocks.</span>  "
   ]
  },
  {
   "cell_type": "code",
   "execution_count": null,
   "metadata": {},
   "outputs": [],
   "source": [
    "# Python array\n",
    "tickers = ['^VLIC', 'NFLX', 'AAPL', 'MSFT', 'MCD']"
   ]
  },
  {
   "cell_type": "code",
   "execution_count": null,
   "metadata": {},
   "outputs": [],
   "source": [
    "# Set the start and end times\n",
    "start = dt.datetime(2018,4,4)\n",
    "end = dt.datetime(2019,4,4)\n",
    "data = web.DataReader(tickers, data_source, start, end)"
   ]
  },
  {
   "cell_type": "code",
   "execution_count": null,
   "metadata": {},
   "outputs": [],
   "source": [
    "# Isolate the adjusted closing prices\n",
    "ac_data = pd.DataFrame(data['Adj Close'])"
   ]
  },
  {
   "cell_type": "code",
   "execution_count": null,
   "metadata": {},
   "outputs": [],
   "source": [
    "# Iterate through the data, by stock symbol\n",
    "for stock in ac_data:\n",
    "    item = np.cumsum(ac_data[stock].pct_change() * 100)  # Calculate the cumulative sum\n",
    "    item.plot(figsize=(12,9))  # Plot the result\n",
    "    \n",
    "# Set chart options\n",
    "plt.title(\"Stocks Cumulative Simple Return\")\n",
    "plt.xlabel(\"Period of Stocks\")\n",
    "plt.ylabel(\"Cumulative Simple Return * 100\")\n",
    "plt.show()"
   ]
  },
  {
   "cell_type": "markdown",
   "metadata": {},
   "source": [
    "## 3.  Mathematical Symbols in Markdown  \n",
    "The use of proper mathematical symbols is possible using a markdown cell in Jupyter.  Even though it might be challenging to understand the notation at first, take a look at the following examples, and note how they are written using markdown.  \n",
    "  \n",
    "Let's break down the following forumla.\n",
    "  \n",
    "![Figure1](Images/figure1.png)"
   ]
  },
  {
   "cell_type": "markdown",
   "metadata": {},
   "source": [
    "The first thing that we need to do is to specify that we are going to be adding a formula to markdown.  We do this by adding two dollar signs.    \n",
    "  \n",
    "The markdown for our formula so far, is this:  \n",
    "  \n",
    "![Figure 2](Images/figure2.png)  \n",
    "  \n",
    "Next, we add the items in the formula from left to right.  To begin, we need to add R sub t.  Subscript notation is straightforward.  Simply type the base, followed by an underscore, and then the subscript immediately afterward.  \n",
    "  \n",
    "Therefore, the markdown up through this section of the formula is this:  \n",
    "  \n",
    "![Figure 3](Images/figure3.png) \n",
    "  \n",
    "We then add the equal sign, bringing our markdown to this:  \n",
    "  \n",
    "![Figure 4](Images/figure4.png) \n",
    "  \n",
    "Followed by some simple arithmetic:  \n",
    "  \n",
    "![Figure 5](Images/figure5.png) \n",
    "  \n",
    "Now things begin to get scary **(not really).**  \n",
    "  \n",
    "To add sigma, we use the **\\sum_** keyword.  Type backslash and then sum_:  \n",
    "![Figure 6](Images/figure6.png)\n",
    "  \n",
    "We enclose the items of a keyword using a set of curly braces.  We will do this to add the rest of the items to the sigma.  We start by adding the bottom, inside its own set of brackets:  \n",
    "  \n",
    "![Figure 7](Images/figure7.png)\n",
    "  \n",
    "To add the top of the sigma, we add a carat after the closing bracket, and then the last value of our summation--in this case, n.  \n",
    "  \n",
    "![Figure 8](Images/figure8.png)\n",
    "  \n",
    "To finish the equation, we will add the sequence.  We begin by entering our parenthesis.  Next, we need display a fraction, and to do that, we use the **\\frac** keyword, followed by two sections of curly braces--one for the numerator and one for the denominator.  We will start by adding the numerator:  \n",
    "  \n",
    "![Figure 9](Images/figure9.png)\n",
    "  \n",
    "Now we will add the denominator inside its own set of curly braces.  First we type the base, followed by an underscore, and then the subscript.  **Notice that in this case, the subscript is contained within its own set of curly braces.**  This is to make sure that the -1 part of the formula appears as subscript, and not as a subtraction operation.  Note the following difference:  \n",
    "  \n",
    "$\\frac{P_i}{P_{i-1}}$ vs $ \\frac{P_i}{P_{i}-1} $  \n",
    "  \n",
    "We complete the denominator with its own closing curly brace.  With the numerator and denominator of the fraction completed, we are left with the following markdown:  \n",
    "  \n",
    "![Figure 10](Images/figure10.png)\n",
    "  \n",
    "The last piece of the sequence is to subtract 1, so we add that now, and then close off the parenthesis:  \n",
    "  \n",
    "![Figure 11](Images/figure11.png)\n",
    "  \n",
    "Finally, we end the notation of our equation by adding two more dollar signs at the end:  \n",
    "  \n",
    "![Figure 12](Images/figure12.png)  \n",
    "  \n",
    "When you run the cell, it should show up like our example above:  \n",
    "  \n",
    "$$ R_t = 100 * \\sum_{i=1}^n (\\frac{P_i}{P_{i-1}}-1) $$\n",
    "  \n",
    "A reference to using proper mathematical notation can be found in [this document](https://www.calvin.edu/~rpruim/courses/s341/S17/from-class/MathinRmd.html?from=singlemessage&isappinstalled=0).  \n",
    "  \n",
    "If you get lost, try to remember that in most cases, anything added after an underscore will be a subscript, and anything after a carat will be a superscript.  Be careful to close all of your curly braces in the right spots, and don't forget to end the equation notation with two dollar signs!"
   ]
  },
  {
   "cell_type": "code",
   "execution_count": null,
   "metadata": {},
   "outputs": [],
   "source": []
  }
 ],
 "metadata": {
  "kernelspec": {
   "display_name": "Python 3",
   "language": "python",
   "name": "python3"
  },
  "language_info": {
   "codemirror_mode": {
    "name": "ipython",
    "version": 3
   },
   "file_extension": ".py",
   "mimetype": "text/x-python",
   "name": "python",
   "nbconvert_exporter": "python",
   "pygments_lexer": "ipython3",
   "version": "3.7.3"
  },
  "toc": {
   "base_numbering": 1,
   "nav_menu": {
    "height": "425px",
    "width": "428px"
   },
   "number_sections": false,
   "sideBar": true,
   "skip_h1_title": false,
   "title_cell": "Table of Contents",
   "title_sidebar": "Contents",
   "toc_cell": false,
   "toc_position": {
    "height": "calc(100% - 180px)",
    "left": "10px",
    "top": "150px",
    "width": "336px"
   },
   "toc_section_display": true,
   "toc_window_display": true
  },
  "varInspector": {
   "cols": {
    "lenName": 16,
    "lenType": 16,
    "lenVar": 40
   },
   "kernels_config": {
    "python": {
     "delete_cmd_postfix": "",
     "delete_cmd_prefix": "del ",
     "library": "var_list.py",
     "varRefreshCmd": "print(var_dic_list())"
    },
    "r": {
     "delete_cmd_postfix": ") ",
     "delete_cmd_prefix": "rm(",
     "library": "var_list.r",
     "varRefreshCmd": "cat(var_dic_list()) "
    }
   },
   "position": {
    "height": "144px",
    "left": "1131px",
    "right": "20px",
    "top": "119px",
    "width": "350px"
   },
   "types_to_exclude": [
    "module",
    "function",
    "builtin_function_or_method",
    "instance",
    "_Feature"
   ],
   "window_display": false
  }
 },
 "nbformat": 4,
 "nbformat_minor": 2
}
